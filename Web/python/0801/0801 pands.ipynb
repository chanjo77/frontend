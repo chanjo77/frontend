{
 "cells": [
  {
   "cell_type": "code",
   "execution_count": 8,
   "metadata": {},
   "outputs": [],
   "source": [
    "import pandas as pd\n",
    "\n",
    "df = pd.read_csv('my_data.csv')\n",
    "\n"
   ]
  },
  {
   "cell_type": "code",
   "execution_count": 9,
   "metadata": {},
   "outputs": [],
   "source": [
    "df.drop(columns=['Unnamed:0'], inplace=True)\n",
    "df.rename(columns={'name': '이름', 'job': '직업', 'department': '부서', 'salary': '급여'}, inplace=True)\n"
   ]
  },
  {
   "cell_type": "code",
   "execution_count": 10,
   "metadata": {},
   "outputs": [
    {
     "name": "stdout",
     "output_type": "stream",
     "text": [
      "     이름        직업         부서      급여\n",
      "0   앨리스  Engineer         IT  50,000\n",
      "1     밥   Manager         HR  60,000\n",
      "2    찰리   Analyst    Finance  45,000\n",
      "3  데이비드  Designer  Marketing  55,000\n"
     ]
    }
   ],
   "source": [
    "name_mapping = {\n",
    "    'Alice': '앨리스',\n",
    "    'Bob': '밥',\n",
    "    'Charlie': '찰리',\n",
    "    'David': '데이비드',\n",
    "}\n",
    "\n",
    "df['이름'] = df['이름'].map(name_mapping)\n",
    "\n",
    "df['급여'] = df['급여'].apply(lambda x: '{:,.0f}'.format(x))\n",
    "df.to_csv('modified_my_data.csv', index=False)\n",
    "\n",
    "print(df)"
   ]
  }
 ],
 "metadata": {
  "kernelspec": {
   "display_name": "Python 3",
   "language": "python",
   "name": "python3"
  },
  "language_info": {
   "codemirror_mode": {
    "name": "ipython",
    "version": 3
   },
   "file_extension": ".py",
   "mimetype": "text/x-python",
   "name": "python",
   "nbconvert_exporter": "python",
   "pygments_lexer": "ipython3",
   "version": "3.10.11"
  },
  "orig_nbformat": 4
 },
 "nbformat": 4,
 "nbformat_minor": 2
}
